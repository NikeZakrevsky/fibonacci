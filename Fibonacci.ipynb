{
 "cells": [
  {
   "cell_type": "code",
   "execution_count": 23,
   "metadata": {},
   "outputs": [
    {
     "data": {
      "text/plain": [
       "354224848179261915075"
      ]
     },
     "execution_count": 23,
     "metadata": {},
     "output_type": "execute_result"
    }
   ],
   "source": [
    "from typing import Dict\n",
    "\n",
    "cache: Dict[int, int] = {0: 0, 1: 1}\n",
    "\n",
    "def fib(x: int) -> int:\n",
    "    if x not in cache:\n",
    "        cache[x] = fib(x-1) + fib(x-2)\n",
    "    return cache[x]\n",
    "\n",
    "fib(100)"
   ]
  },
  {
   "cell_type": "code",
   "execution_count": 24,
   "metadata": {},
   "outputs": [
    {
     "data": {
      "text/plain": [
       "354224848179261915075"
      ]
     },
     "execution_count": 24,
     "metadata": {},
     "output_type": "execute_result"
    }
   ],
   "source": [
    "from functools import lru_cache\n",
    "\n",
    "@lru_cache(maxsize=None)\n",
    "def fib1(x: int) -> int:\n",
    "    if x < 2:\n",
    "        return x\n",
    "    return fib(x-1)+fib(x-2)\n",
    "fib1(100)"
   ]
  },
  {
   "cell_type": "code",
   "execution_count": 25,
   "metadata": {},
   "outputs": [
    {
     "data": {
      "text/plain": [
       "354224848179261915075"
      ]
     },
     "execution_count": 25,
     "metadata": {},
     "output_type": "execute_result"
    }
   ],
   "source": [
    "def fib2(x: int) -> int:\n",
    "    if x == 0: return 0\n",
    "    last: int = 0\n",
    "    next: int = 1\n",
    "    for x in range(0, x):\n",
    "        last, next = next, last+next\n",
    "    \n",
    "    return last\n",
    "fib2(100)"
   ]
  },
  {
   "cell_type": "code",
   "execution_count": 27,
   "metadata": {},
   "outputs": [
    {
     "name": "stdout",
     "output_type": "stream",
     "text": [
      "0\n",
      "1\n",
      "1\n",
      "2\n",
      "3\n",
      "5\n",
      "8\n",
      "13\n",
      "21\n",
      "34\n",
      "55\n"
     ]
    }
   ],
   "source": [
    "from typing import Generator\n",
    "\n",
    "def fib3(x: int) -> Generator[int, None, None]:\n",
    "    yield 0\n",
    "    if x > 0: yield 1\n",
    "    \n",
    "    last: int = 0\n",
    "    next: int = 1\n",
    "    for i in range(1, x):\n",
    "        last, next = next, last + next\n",
    "        yield next\n",
    "for value in fib3(10):\n",
    "    print(value)"
   ]
  },
  {
   "cell_type": "code",
   "execution_count": null,
   "metadata": {},
   "outputs": [],
   "source": []
  }
 ],
 "metadata": {
  "kernelspec": {
   "display_name": "Python 3",
   "language": "python",
   "name": "python3"
  },
  "language_info": {
   "codemirror_mode": {
    "name": "ipython",
    "version": 3
   },
   "file_extension": ".py",
   "mimetype": "text/x-python",
   "name": "python",
   "nbconvert_exporter": "python",
   "pygments_lexer": "ipython3",
   "version": "3.7.3"
  }
 },
 "nbformat": 4,
 "nbformat_minor": 2
}
